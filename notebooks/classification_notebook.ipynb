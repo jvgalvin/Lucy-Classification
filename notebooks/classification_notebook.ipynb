{
 "cells": [
  {
   "cell_type": "markdown",
   "id": "7e3804b1",
   "metadata": {},
   "source": [
    "## Imported Modules"
   ]
  },
  {
   "cell_type": "code",
   "execution_count": 24,
   "id": "3fec27f4",
   "metadata": {},
   "outputs": [],
   "source": [
    "import tensorflow as tf\n",
    "from keras import metrics\n",
    "from tensorflow.keras.preprocessing.image import ImageDataGenerator, load_img, img_to_array\n",
    "from tensorflow.keras.applications.resnet50 import ResNet50, preprocess_input\n",
    "from tensorflow.keras import Model\n",
    "from tensorflow.keras.models import load_model\n",
    "from tensorflow.keras.layers import Input, Flatten, Dense, Dropout, GlobalAveragePooling2D\n",
    "\n",
    "import pandas as pd\n",
    "import numpy as np\n",
    "import os\n",
    "import shutil\n",
    "import pathlib\n",
    "from glob import glob\n",
    "\n",
    "import requests \n",
    "from bs4 import BeautifulSoup\n",
    "import urllib.request\n",
    "\n",
    "import PIL\n",
    "from PIL import Image\n",
    "\n",
    "from sklearn.model_selection import train_test_split\n",
    "\n",
    "import matplotlib.pyplot as plt\n",
    "%matplotlib inline"
   ]
  },
  {
   "cell_type": "markdown",
   "id": "54faef6f",
   "metadata": {},
   "source": [
    "## Global Variables"
   ]
  },
  {
   "cell_type": "code",
   "execution_count": 260,
   "id": "e663ae20",
   "metadata": {},
   "outputs": [],
   "source": [
    "NUM_CLASSES = 2\n",
    "NUM_EPOCHS = 5\n",
    "BATCH_SIZE = 16\n",
    "IMG_SIZE = (224,224) # Expected size for ResNet50\n",
    "LR = 0.1"
   ]
  },
  {
   "cell_type": "markdown",
   "id": "bb2d381a",
   "metadata": {},
   "source": [
    "## Load Lucy Images"
   ]
  },
  {
   "cell_type": "code",
   "execution_count": 122,
   "id": "649c7804",
   "metadata": {},
   "outputs": [],
   "source": [
    "# Load and convert images to .jpeg\n",
    "\n",
    "img_dir = \"/Users/johngalvin/Desktop/GitHub/Tensorflow/workspace/Lucy-Classification/images/lucy/\"\n",
    "\n",
    "for file in os.listdir(img_dir):\n",
    "    if file.endswith(\".JPG\") or file.endswith(\".jpg\"):\n",
    "        img = Image.open(img_dir + file)\n",
    "        file_name, file_ext = os.path.splitext(file)\n",
    "        new_name = file_name + \".jpeg\"\n",
    "        img.save(img_dir + new_name)"
   ]
  },
  {
   "cell_type": "code",
   "execution_count": 123,
   "id": "0d5a74f0",
   "metadata": {},
   "outputs": [],
   "source": [
    "# Delete the .JPG and.jpg files\n",
    "\n",
    "for file in os.listdir(img_dir):\n",
    "    if file.endswith(\".JPG\") or file.endswith(\".jpg\"):\n",
    "        path_to_file = os.path.join(\"/Users/johngalvin/Desktop/GitHub/Tensorflow/workspace/Lucy-Classification/images/lucy/\", file)\n",
    "        os.remove(path_to_file)"
   ]
  },
  {
   "cell_type": "markdown",
   "id": "83e03e6a",
   "metadata": {},
   "source": [
    "## Download Other Images (Not Lucy)"
   ]
  },
  {
   "cell_type": "code",
   "execution_count": 124,
   "id": "5e377976",
   "metadata": {},
   "outputs": [],
   "source": [
    "# Function to grab image urls from a url\n",
    "\n",
    "def getdata(url): \n",
    "    r = requests.get(url) \n",
    "    return r.text \n",
    "    \n",
    "htmldata = getdata(\"https://unsplash.com/s/photos/french-bulldog\") \n",
    "soup = BeautifulSoup(htmldata, 'html.parser')\n",
    "img_list = [item['src'] for item in soup.find_all(\"img\")]"
   ]
  },
  {
   "cell_type": "code",
   "execution_count": 125,
   "id": "cdcd60e5",
   "metadata": {},
   "outputs": [],
   "source": [
    "i = 0\n",
    "while i < len(img_list):\n",
    "    f_name = \"/Users/johngalvin/Desktop/GitHub/Tensorflow/workspace/Lucy-Classification/images/other/\" + str(i) + \".jpeg\"\n",
    "    urllib.request.urlretrieve(img_list[i], f_name)\n",
    "    i+=1"
   ]
  },
  {
   "cell_type": "markdown",
   "id": "1daa1721",
   "metadata": {},
   "source": [
    "## Train / Test Split"
   ]
  },
  {
   "cell_type": "markdown",
   "id": "7b62ec60",
   "metadata": {},
   "source": [
    "### Lucy Images"
   ]
  },
  {
   "cell_type": "code",
   "execution_count": 136,
   "id": "3180a115",
   "metadata": {},
   "outputs": [],
   "source": [
    "# Generate a list of the image files\n",
    "lucy_image_files = glob(\"../images/lucy/*.jpeg\")\n",
    "\n",
    "# Strip the extensions\n",
    "lucy_image_names = [name.replace(\".jpeg\",\"\") for name in lucy_image_files]\n",
    "\n",
    "# Split into train and test\n",
    "lucy_train_names, lucy_test_names = train_test_split(lucy_image_names, test_size=0.2)\n",
    "\n",
    "def batch_move_files(file_list, source_path, destination_path):\n",
    "    \"\"\"Moves jpeg files to destination path from source path\"\"\"\n",
    "    \n",
    "    for file in file_list:\n",
    "        image = file + \".jpeg\"\n",
    "        shutil.move(image, destination_path)\n",
    "    \n",
    "    return\n",
    "\n",
    "# Move the files - assumes empty train and test directories at the images directory level\n",
    "\n",
    "source_dir = \"../images/lucy/\"\n",
    "val_dir = \"../images/val/lucy/\"\n",
    "train_dir = \"../images/train/lucy/\"\n",
    "batch_move_files(lucy_test_names, source_dir, val_dir)\n",
    "batch_move_files(lucy_train_names, source_dir, train_dir)"
   ]
  },
  {
   "cell_type": "markdown",
   "id": "b7d5674c",
   "metadata": {},
   "source": [
    "### Other Images"
   ]
  },
  {
   "cell_type": "code",
   "execution_count": 137,
   "id": "a93215a5",
   "metadata": {},
   "outputs": [],
   "source": [
    "# Generate a list of the image files\n",
    "other_image_files = glob(\"../images/other/*.jpeg\")\n",
    "\n",
    "# Strip the extensions\n",
    "other_image_names = [name.replace(\".jpeg\",\"\") for name in other_image_files]\n",
    "\n",
    "# Split into train and test\n",
    "other_train_names, other_test_names = train_test_split(other_image_names, test_size=0.2)\n",
    "\n",
    "# Move the files - assumes empty train and test directories at the images directory level\n",
    "\n",
    "source_dir = \"../images/other/\"\n",
    "val_dir = \"../images/val/other/\"\n",
    "train_dir = \"../images/train/other/\"\n",
    "batch_move_files(other_test_names, source_dir, val_dir)\n",
    "batch_move_files(other_train_names, source_dir, train_dir)"
   ]
  },
  {
   "cell_type": "markdown",
   "id": "08e0817c",
   "metadata": {},
   "source": [
    "## Image Augmentation"
   ]
  },
  {
   "cell_type": "code",
   "execution_count": 3,
   "id": "f3c76a5f",
   "metadata": {},
   "outputs": [],
   "source": [
    "# Create generators and preprocess input\n",
    "\n",
    "train_datagen = ImageDataGenerator(preprocessing_function=preprocess_input,\n",
    "                                   rotation_range=20,\n",
    "                                   width_shift_range=0.2,\n",
    "                                   height_shift_range=0.2,\n",
    "                                   zoom_range=0.2)\n",
    "\n",
    "val_datagen = ImageDataGenerator(preprocessing_function=preprocess_input)"
   ]
  },
  {
   "cell_type": "code",
   "execution_count": 5,
   "id": "847be9cd",
   "metadata": {},
   "outputs": [
    {
     "name": "stdout",
     "output_type": "stream",
     "text": [
      "Found 221 images belonging to 2 classes.\n",
      "Found 56 images belonging to 2 classes.\n"
     ]
    }
   ],
   "source": [
    "# Use the generators\n",
    "\n",
    "train_generator = train_datagen.flow_from_directory(\"../images/train/\",\n",
    "                                                    target_size=IMG_SIZE,\n",
    "                                                    batch_size=BATCH_SIZE,\n",
    "                                                    shuffle=True,\n",
    "                                                    seed=42,\n",
    "                                                    class_mode=\"categorical\")\n",
    "\n",
    "val_generator = val_datagen.flow_from_directory(\"../images/val/\",\n",
    "                                                    target_size=IMG_SIZE,\n",
    "                                                    batch_size=BATCH_SIZE,\n",
    "                                                    shuffle=False,\n",
    "                                                    class_mode=\"categorical\")"
   ]
  },
  {
   "cell_type": "markdown",
   "id": "bb5ab3da",
   "metadata": {},
   "source": [
    "## Define and Fine Tune Model"
   ]
  },
  {
   "cell_type": "code",
   "execution_count": 261,
   "id": "a57ddb60",
   "metadata": {},
   "outputs": [],
   "source": [
    "# Instantiate base model from ResNet50 and exclude head\n",
    "\n",
    "tf.keras.backend.clear_session()\n",
    "base_model = ResNet50(include_top=False,\n",
    "                      input_shape=IMG_SIZE + (3,))\n",
    "\n",
    "for layer in base_model.layers[:]:\n",
    "    layer.trainable = False\n",
    "\n",
    "# Create custom model\n",
    "\n",
    "input_layer = Input(shape=IMG_SIZE + (3,)) # Need to add channel dimension last\n",
    "\n",
    "custom_model = base_model(input_layer)\n",
    "custom_model = GlobalAveragePooling2D()(custom_model)\n",
    "custom_model = Dense(64, activation=\"relu\")(custom_model)\n",
    "custom_model = Dropout(0.2)(custom_model)\n",
    "predictions = Dense(NUM_CLASSES, activation=\"softmax\")(custom_model)\n",
    "\n",
    "# Instantiate custom model\n",
    "\n",
    "model = Model(inputs=input_layer, outputs=predictions)\n",
    "\n",
    "# Compile model\n",
    "\n",
    "model.compile(loss=\"categorical_crossentropy\",\n",
    "              optimizer=tf.keras.optimizers.Adam(learning_rate=LR),\n",
    "              metrics=[\"acc\"])"
   ]
  },
  {
   "cell_type": "code",
   "execution_count": 262,
   "id": "add07d32",
   "metadata": {},
   "outputs": [
    {
     "name": "stdout",
     "output_type": "stream",
     "text": [
      "Epoch 1/5\n"
     ]
    },
    {
     "name": "stderr",
     "output_type": "stream",
     "text": [
      "2022-06-11 15:18:50.362973: I tensorflow/core/grappler/optimizers/custom_graph_optimizer_registry.cc:112] Plugin optimizer for device_type GPU is enabled.\n"
     ]
    },
    {
     "name": "stdout",
     "output_type": "stream",
     "text": [
      "14/14 [==============================] - ETA: 0s - loss: 100.1240 - acc: 0.6742"
     ]
    },
    {
     "name": "stderr",
     "output_type": "stream",
     "text": [
      "2022-06-11 15:19:03.756442: I tensorflow/core/grappler/optimizers/custom_graph_optimizer_registry.cc:112] Plugin optimizer for device_type GPU is enabled.\n"
     ]
    },
    {
     "name": "stdout",
     "output_type": "stream",
     "text": [
      "14/14 [==============================] - 17s 1s/step - loss: 100.1240 - acc: 0.6742 - val_loss: 2.6318 - val_acc: 0.8571\n",
      "Epoch 2/5\n",
      "14/14 [==============================] - 15s 1s/step - loss: 4.0752 - acc: 0.7240 - val_loss: 0.7923 - val_acc: 0.5536\n",
      "Epoch 3/5\n",
      "14/14 [==============================] - 15s 1s/step - loss: 0.5902 - acc: 0.7466 - val_loss: 0.3378 - val_acc: 0.9107\n",
      "Epoch 4/5\n",
      "14/14 [==============================] - 15s 1s/step - loss: 0.5194 - acc: 0.9412 - val_loss: 0.1983 - val_acc: 0.9107\n",
      "Epoch 5/5\n",
      "14/14 [==============================] - 15s 1s/step - loss: 0.2047 - acc: 0.9276 - val_loss: 0.1486 - val_acc: 0.9643\n"
     ]
    }
   ],
   "source": [
    "# Fit the model\n",
    "\n",
    "history = model.fit(train_generator,\n",
    "                    epochs=NUM_EPOCHS,\n",
    "                    validation_data=val_generator)"
   ]
  },
  {
   "cell_type": "markdown",
   "id": "e07c7169",
   "metadata": {},
   "source": [
    "## Evaluate Model\n",
    "\n",
    "### Architecture"
   ]
  },
  {
   "cell_type": "code",
   "execution_count": 263,
   "id": "07c65b38",
   "metadata": {},
   "outputs": [
    {
     "name": "stdout",
     "output_type": "stream",
     "text": [
      "Model: \"model\"\n",
      "_________________________________________________________________\n",
      " Layer (type)                Output Shape              Param #   \n",
      "=================================================================\n",
      " input_2 (InputLayer)        [(None, 224, 224, 3)]     0         \n",
      "                                                                 \n",
      " resnet50 (Functional)       (None, 7, 7, 2048)        23587712  \n",
      "                                                                 \n",
      " global_average_pooling2d (G  (None, 2048)             0         \n",
      " lobalAveragePooling2D)                                          \n",
      "                                                                 \n",
      " dense (Dense)               (None, 64)                131136    \n",
      "                                                                 \n",
      " dropout (Dropout)           (None, 64)                0         \n",
      "                                                                 \n",
      " dense_1 (Dense)             (None, 2)                 130       \n",
      "                                                                 \n",
      "=================================================================\n",
      "Total params: 23,718,978\n",
      "Trainable params: 131,266\n",
      "Non-trainable params: 23,587,712\n",
      "_________________________________________________________________\n"
     ]
    }
   ],
   "source": [
    "model.summary()"
   ]
  },
  {
   "cell_type": "code",
   "execution_count": 264,
   "id": "324587c7",
   "metadata": {},
   "outputs": [
    {
     "data": {
      "image/png": "[encoded data removed]",
      "text/plain": [
       "<Figure size 432x288 with 1 Axes>"
      ]
     },
     "metadata": {
      "needs_background": "light"
     },
     "output_type": "display_data"
    }
   ],
   "source": [
    "# Visualize loss curve\n",
    "\n",
    "losses = history.history['val_loss']\n",
    "plt.plot(losses)\n",
    "plt.xlabel('Training Step')\n",
    "plt.ylabel('Validation Cross Entropy Loss')\n",
    "plt.title('Validation Loss')\n",
    "plt.show()"
   ]
  },
  {
   "cell_type": "code",
   "execution_count": 265,
   "id": "396e04b1",
   "metadata": {},
   "outputs": [
    {
     "data": {
      "image/png": "[encoded data removed]",
      "text/plain": [
       "<Figure size 432x288 with 1 Axes>"
      ]
     },
     "metadata": {
      "needs_background": "light"
     },
     "output_type": "display_data"
    }
   ],
   "source": [
    "# Visualize accuracy\n",
    "\n",
    "losses = history.history['val_acc']\n",
    "plt.plot(losses)\n",
    "plt.xlabel('Training Step')\n",
    "plt.ylabel('Validation Accuracy')\n",
    "plt.title('Validation Accuracy')\n",
    "plt.show()"
   ]
  },
  {
   "cell_type": "code",
   "execution_count": 266,
   "id": "15e11e1d",
   "metadata": {},
   "outputs": [
    {
     "data": {
      "text/html": [
       "<div>\n",
       "<style scoped>\n",
       "    .dataframe tbody tr th:only-of-type {\n",
       "        vertical-align: middle;\n",
       "    }\n",
       "\n",
       "    .dataframe tbody tr th {\n",
       "        vertical-align: top;\n",
       "    }\n",
       "\n",
       "    .dataframe thead th {\n",
       "        text-align: right;\n",
       "    }\n",
       "</style>\n",
       "<table border=\"1\" class=\"dataframe\">\n",
       "  <thead>\n",
       "    <tr style=\"text-align: right;\">\n",
       "      <th></th>\n",
       "      <th>loss</th>\n",
       "      <th>acc</th>\n",
       "      <th>val_loss</th>\n",
       "      <th>val_acc</th>\n",
       "    </tr>\n",
       "  </thead>\n",
       "  <tbody>\n",
       "    <tr>\n",
       "      <th>0</th>\n",
       "      <td>100.124016</td>\n",
       "      <td>0.674208</td>\n",
       "      <td>2.631823</td>\n",
       "      <td>0.857143</td>\n",
       "    </tr>\n",
       "    <tr>\n",
       "      <th>1</th>\n",
       "      <td>4.075229</td>\n",
       "      <td>0.723982</td>\n",
       "      <td>0.792318</td>\n",
       "      <td>0.553571</td>\n",
       "    </tr>\n",
       "    <tr>\n",
       "      <th>2</th>\n",
       "      <td>0.590186</td>\n",
       "      <td>0.746606</td>\n",
       "      <td>0.337762</td>\n",
       "      <td>0.910714</td>\n",
       "    </tr>\n",
       "    <tr>\n",
       "      <th>3</th>\n",
       "      <td>0.519444</td>\n",
       "      <td>0.941177</td>\n",
       "      <td>0.198316</td>\n",
       "      <td>0.910714</td>\n",
       "    </tr>\n",
       "    <tr>\n",
       "      <th>4</th>\n",
       "      <td>0.204717</td>\n",
       "      <td>0.927602</td>\n",
       "      <td>0.148647</td>\n",
       "      <td>0.964286</td>\n",
       "    </tr>\n",
       "  </tbody>\n",
       "</table>\n",
       "</div>"
      ],
      "text/plain": [
       "         loss       acc  val_loss   val_acc\n",
       "0  100.124016  0.674208  2.631823  0.857143\n",
       "1    4.075229  0.723982  0.792318  0.553571\n",
       "2    0.590186  0.746606  0.337762  0.910714\n",
       "3    0.519444  0.941177  0.198316  0.910714\n",
       "4    0.204717  0.927602  0.148647  0.964286"
      ]
     },
     "execution_count": 266,
     "metadata": {},
     "output_type": "execute_result"
    }
   ],
   "source": [
    "# Table of history\n",
    "\n",
    "hist_df = pd.DataFrame(history.history)\n",
    "hist_df"
   ]
  },
  {
   "cell_type": "code",
   "execution_count": 267,
   "id": "82cf2209",
   "metadata": {},
   "outputs": [
    {
     "name": "stderr",
     "output_type": "stream",
     "text": [
      "/Users/johngalvin/miniforge3/lib/python3.9/site-packages/keras/engine/functional.py:1410: CustomMaskWarning: Custom mask layers require a config and must override get_config. When loading, the custom mask layer must be passed to the custom_objects argument.\n",
      "  layer_config = serialize_layer_fn(layer)\n"
     ]
    }
   ],
   "source": [
    "model.save(\"/Users/johngalvin/Desktop/GitHub/Tensorflow/workspace/Lucy-Classification/models/model.h5\")"
   ]
  },
  {
   "cell_type": "markdown",
   "id": "60829ed0",
   "metadata": {},
   "source": [
    "## Prepare Test Set"
   ]
  },
  {
   "cell_type": "code",
   "execution_count": 281,
   "id": "fb33d8ff",
   "metadata": {},
   "outputs": [
    {
     "name": "stdout",
     "output_type": "stream",
     "text": [
      "Found 28 images belonging to 2 classes.\n"
     ]
    }
   ],
   "source": [
    "# Preprocess the test images to expected shape\n",
    "\n",
    "test_datagen = ImageDataGenerator(preprocessing_function=preprocess_input)\n",
    "\n",
    "test_generator = test_datagen.flow_from_directory(\"../images/test/\",\n",
    "                                                    target_size=IMG_SIZE,\n",
    "                                                    batch_size=1,\n",
    "                                                    shuffle=True,\n",
    "                                                    class_mode=\"categorical\")"
   ]
  },
  {
   "cell_type": "markdown",
   "id": "91a2a797",
   "metadata": {},
   "source": [
    "## Test the Model"
   ]
  },
  {
   "cell_type": "code",
   "execution_count": 282,
   "id": "d510c690",
   "metadata": {},
   "outputs": [],
   "source": [
    "tf.keras.backend.clear_session()\n",
    "model = load_model(\"/Users/johngalvin/Desktop/GitHub/Tensorflow/workspace/Lucy-Classification/models/model.h5\")"
   ]
  },
  {
   "cell_type": "code",
   "execution_count": 283,
   "id": "6269ee90",
   "metadata": {},
   "outputs": [
    {
     "name": "stderr",
     "output_type": "stream",
     "text": [
      "2022-06-11 15:33:11.349830: I tensorflow/core/grappler/optimizers/custom_graph_optimizer_registry.cc:112] Plugin optimizer for device_type GPU is enabled.\n"
     ]
    }
   ],
   "source": [
    "predictions = model.predict(test_generator)"
   ]
  },
  {
   "cell_type": "code",
   "execution_count": 284,
   "id": "2dbae6b8",
   "metadata": {},
   "outputs": [],
   "source": [
    "# Find index of max probability for each prediction\n",
    "\n",
    "predictions = [np.argmax(item) for item in predictions]"
   ]
  },
  {
   "cell_type": "code",
   "execution_count": 285,
   "id": "eecc6e26",
   "metadata": {},
   "outputs": [
    {
     "name": "stdout",
     "output_type": "stream",
     "text": [
      "0.5\n"
     ]
    }
   ],
   "source": [
    "num_correct = 0\n",
    "\n",
    "for i in range(len(predictions)):\n",
    "    if predictions[i] == test_generator.classes[i]:\n",
    "        num_correct += 1\n",
    "print (num_correct / len(test_generator.classes))"
   ]
  },
  {
   "cell_type": "code",
   "execution_count": null,
   "id": "00d1dc0f",
   "metadata": {},
   "outputs": [],
   "source": []
  }
 ],
 "metadata": {
  "kernelspec": {
   "display_name": "Python 3 (ipykernel)",
   "language": "python",
   "name": "python3"
  },
  "language_info": {
   "codemirror_mode": {
    "name": "ipython",
    "version": 3
   },
   "file_extension": ".py",
   "mimetype": "text/x-python",
   "name": "python",
   "nbconvert_exporter": "python",
   "pygments_lexer": "ipython3",
   "version": "3.9.7"
  }
 },
 "nbformat": 4,
 "nbformat_minor": 5
}
