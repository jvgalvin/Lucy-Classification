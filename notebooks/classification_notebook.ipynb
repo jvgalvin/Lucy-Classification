{
 "cells": [
  {
   "cell_type": "code",
   "execution_count": 183,
   "id": "7bcff3f0",
   "metadata": {},
   "outputs": [],
   "source": [
    "import tensorflow as tf\n",
    "from keras import metrics\n",
    "from tensorflow.keras.preprocessing.image import ImageDataGenerator, load_img, img_to_array\n",
    "from tensorflow.keras.applications.resnet50 import ResNet50, preprocess_input\n",
    "from tensorflow.keras import Model\n",
    "from tensorflow.keras.models import load_model\n",
    "from tensorflow.keras.layers import Input, Flatten, Dense, Dropout, GlobalAveragePooling2D\n",
    "\n",
    "import numpy as np\n",
    "import os\n",
    "import shutil\n",
    "import pathlib\n",
    "from glob import glob\n",
    "\n",
    "import requests \n",
    "from bs4 import BeautifulSoup\n",
    "import urllib.request\n",
    "\n",
    "import PIL\n",
    "from PIL import Image\n",
    "\n",
    "from sklearn.model_selection import train_test_split\n",
    "\n",
    "import matplotlib.pyplot as plt\n",
    "%matplotlib inline"
   ]
  },
  {
   "cell_type": "code",
   "execution_count": 150,
   "id": "30534878",
   "metadata": {},
   "outputs": [],
   "source": [
    "NUM_CLASSES = 2\n",
    "BATCH_SIZE = 16\n",
    "IMG_SIZE = (224,224)\n",
    "LR = 0.1"
   ]
  },
  {
   "cell_type": "markdown",
   "id": "bb2d381a",
   "metadata": {},
   "source": [
    "## Load Lucy Images"
   ]
  },
  {
   "cell_type": "code",
   "execution_count": 122,
   "id": "649c7804",
   "metadata": {},
   "outputs": [],
   "source": [
    "# Load and convert images to .jpeg\n",
    "\n",
    "img_dir = \"/Users/johngalvin/Desktop/GitHub/Tensorflow/workspace/Lucy-Classification/images/lucy/\"\n",
    "\n",
    "for file in os.listdir(img_dir):\n",
    "    if file.endswith(\".JPG\") or file.endswith(\".jpg\"):\n",
    "        img = Image.open(img_dir + file)\n",
    "        file_name, file_ext = os.path.splitext(file)\n",
    "        new_name = file_name + \".jpeg\"\n",
    "        img.save(img_dir + new_name)"
   ]
  },
  {
   "cell_type": "code",
   "execution_count": 123,
   "id": "0d5a74f0",
   "metadata": {},
   "outputs": [],
   "source": [
    "# Delete the .JPG and.jpg files\n",
    "\n",
    "for file in os.listdir(img_dir):\n",
    "    if file.endswith(\".JPG\") or file.endswith(\".jpg\"):\n",
    "        path_to_file = os.path.join(\"/Users/johngalvin/Desktop/GitHub/Tensorflow/workspace/Lucy-Classification/images/lucy/\", file)\n",
    "        os.remove(path_to_file)"
   ]
  },
  {
   "cell_type": "markdown",
   "id": "83e03e6a",
   "metadata": {},
   "source": [
    "## Download Other Images (Not Lucy)"
   ]
  },
  {
   "cell_type": "code",
   "execution_count": 124,
   "id": "5e377976",
   "metadata": {},
   "outputs": [],
   "source": [
    "# Function to grab image urls from a url\n",
    "\n",
    "def getdata(url): \n",
    "    r = requests.get(url) \n",
    "    return r.text \n",
    "    \n",
    "htmldata = getdata(\"https://unsplash.com/s/photos/french-bulldog\") \n",
    "soup = BeautifulSoup(htmldata, 'html.parser')\n",
    "img_list = [item['src'] for item in soup.find_all(\"img\")]"
   ]
  },
  {
   "cell_type": "code",
   "execution_count": 125,
   "id": "cdcd60e5",
   "metadata": {},
   "outputs": [],
   "source": [
    "i = 0\n",
    "while i < len(img_list):\n",
    "    f_name = \"/Users/johngalvin/Desktop/GitHub/Tensorflow/workspace/Lucy-Classification/images/other/\" + str(i) + \".jpeg\"\n",
    "    urllib.request.urlretrieve(img_list[i], f_name)\n",
    "    i+=1"
   ]
  },
  {
   "cell_type": "markdown",
   "id": "1daa1721",
   "metadata": {},
   "source": [
    "## Train / Test Split"
   ]
  },
  {
   "cell_type": "markdown",
   "id": "7b62ec60",
   "metadata": {},
   "source": [
    "### Lucy Images"
   ]
  },
  {
   "cell_type": "code",
   "execution_count": 136,
   "id": "3180a115",
   "metadata": {},
   "outputs": [],
   "source": [
    "# Generate a list of the image files\n",
    "lucy_image_files = glob(\"../images/lucy/*.jpeg\")\n",
    "\n",
    "# Strip the extensions\n",
    "lucy_image_names = [name.replace(\".jpeg\",\"\") for name in lucy_image_files]\n",
    "\n",
    "# Split into train and test\n",
    "lucy_train_names, lucy_test_names = train_test_split(lucy_image_names, test_size=0.2)\n",
    "\n",
    "def batch_move_files(file_list, source_path, destination_path):\n",
    "    \"\"\"Moves jpeg files to destination path from source path\"\"\"\n",
    "    \n",
    "    for file in file_list:\n",
    "        image = file + \".jpeg\"\n",
    "        shutil.move(image, destination_path)\n",
    "    \n",
    "    return\n",
    "\n",
    "# Move the files - assumes empty train and test directories at the images directory level\n",
    "\n",
    "source_dir = \"../images/lucy/\"\n",
    "val_dir = \"../images/val/lucy/\"\n",
    "train_dir = \"../images/train/lucy/\"\n",
    "batch_move_files(lucy_test_names, source_dir, val_dir)\n",
    "batch_move_files(lucy_train_names, source_dir, train_dir)"
   ]
  },
  {
   "cell_type": "markdown",
   "id": "b7d5674c",
   "metadata": {},
   "source": [
    "### Other Images"
   ]
  },
  {
   "cell_type": "code",
   "execution_count": 137,
   "id": "a93215a5",
   "metadata": {},
   "outputs": [],
   "source": [
    "# Generate a list of the image files\n",
    "other_image_files = glob(\"../images/other/*.jpeg\")\n",
    "\n",
    "# Strip the extensions\n",
    "other_image_names = [name.replace(\".jpeg\",\"\") for name in other_image_files]\n",
    "\n",
    "# Split into train and test\n",
    "other_train_names, other_test_names = train_test_split(other_image_names, test_size=0.2)\n",
    "\n",
    "# Move the files - assumes empty train and test directories at the images directory level\n",
    "\n",
    "source_dir = \"../images/other/\"\n",
    "val_dir = \"../images/val/other/\"\n",
    "train_dir = \"../images/train/other/\"\n",
    "batch_move_files(other_test_names, source_dir, val_dir)\n",
    "batch_move_files(other_train_names, source_dir, train_dir)"
   ]
  },
  {
   "cell_type": "markdown",
   "id": "08e0817c",
   "metadata": {},
   "source": [
    "## Image Augmentation"
   ]
  },
  {
   "cell_type": "code",
   "execution_count": 155,
   "id": "f3c76a5f",
   "metadata": {},
   "outputs": [],
   "source": [
    "# Create generators and preprocess input\n",
    "\n",
    "train_datagen = ImageDataGenerator(preprocessing_function=preprocess_input,\n",
    "                                   rotation_range=20,\n",
    "                                   width_shift_range=0.2,\n",
    "                                   height_shift_range=0.2,\n",
    "                                   zoom_range=0.2)\n",
    "\n",
    "val_datagen = ImageDataGenerator(preprocessing_function=preprocess_input)"
   ]
  },
  {
   "cell_type": "code",
   "execution_count": 156,
   "id": "847be9cd",
   "metadata": {},
   "outputs": [
    {
     "name": "stdout",
     "output_type": "stream",
     "text": [
      "Found 221 images belonging to 2 classes.\n",
      "Found 56 images belonging to 2 classes.\n"
     ]
    }
   ],
   "source": [
    "# Use the generators\n",
    "\n",
    "train_generator = train_datagen.flow_from_directory(\"../images/train/\",\n",
    "                                                    target_size=IMG_SIZE,\n",
    "                                                    batch_size=BATCH_SIZE,\n",
    "                                                    shuffle=True,\n",
    "                                                    seed=42,\n",
    "                                                    class_mode=\"categorical\")\n",
    "\n",
    "val_generator = test_datagen.flow_from_directory(\"../images/val/\",\n",
    "                                                    target_size=IMG_SIZE,\n",
    "                                                    batch_size=BATCH_SIZE,\n",
    "                                                    shuffle=False,\n",
    "                                                    class_mode=\"categorical\")"
   ]
  },
  {
   "cell_type": "markdown",
   "id": "bb5ab3da",
   "metadata": {},
   "source": [
    "## Define and Fine Tune Model"
   ]
  },
  {
   "cell_type": "code",
   "execution_count": 239,
   "id": "a57ddb60",
   "metadata": {},
   "outputs": [],
   "source": [
    "# Instantiate base model from ResNet50 and exclude head\n",
    "\n",
    "base_model = ResNet50(include_top=False,\n",
    "                      input_shape=IMG_SIZE + (3,))\n",
    "\n",
    "for layer in base_model.layers[:]:\n",
    "    layer.trainable = False\n",
    "\n",
    "# Create custom model\n",
    "\n",
    "input_layer = Input(shape=IMG_SIZE + (3,))\n",
    "\n",
    "custom_model = base_model(input_layer)\n",
    "custom_model = GlobalAveragePooling2D()(custom_model)\n",
    "custom_model = Dense(64, activation=\"relu\")(custom_model)\n",
    "custom_model = Dropout(0.2)(custom_model)\n",
    "predictions = Dense(2, activation=\"softmax\")(custom_model)\n",
    "\n",
    "# Instantiate custom model\n",
    "\n",
    "model = Model(inputs=input_layer, outputs=predictions)\n",
    "\n",
    "# Compile model\n",
    "\n",
    "model.compile(loss=\"categorical_crossentropy\",\n",
    "              optimizer=tf.keras.optimizers.Adam(learning_rate=LR),\n",
    "              metrics=[\"acc\"])"
   ]
  },
  {
   "cell_type": "code",
   "execution_count": 240,
   "id": "add07d32",
   "metadata": {},
   "outputs": [
    {
     "name": "stderr",
     "output_type": "stream",
     "text": [
      "/var/folders/xt/wkt538cx4tbf_ssfzkgm44z40000gn/T/ipykernel_46153/4069364747.py:1: UserWarning: `Model.fit_generator` is deprecated and will be removed in a future version. Please use `Model.fit`, which supports generators.\n",
      "  history = model.fit_generator(train_generator,\n"
     ]
    },
    {
     "name": "stdout",
     "output_type": "stream",
     "text": [
      "Epoch 1/5\n"
     ]
    },
    {
     "name": "stderr",
     "output_type": "stream",
     "text": [
      "2022-06-10 13:54:54.974824: I tensorflow/core/grappler/optimizers/custom_graph_optimizer_registry.cc:112] Plugin optimizer for device_type GPU is enabled.\n"
     ]
    },
    {
     "name": "stdout",
     "output_type": "stream",
     "text": [
      "14/14 [==============================] - ETA: 0s - loss: 36.0617 - acc: 0.6697"
     ]
    },
    {
     "name": "stderr",
     "output_type": "stream",
     "text": [
      "2022-06-10 13:55:09.600560: I tensorflow/core/grappler/optimizers/custom_graph_optimizer_registry.cc:112] Plugin optimizer for device_type GPU is enabled.\n"
     ]
    },
    {
     "name": "stdout",
     "output_type": "stream",
     "text": [
      "14/14 [==============================] - 19s 1s/step - loss: 36.0617 - acc: 0.6697 - val_loss: 1.9992 - val_acc: 0.9286\n",
      "Epoch 2/5\n",
      "14/14 [==============================] - 17s 1s/step - loss: 0.7261 - acc: 0.9502 - val_loss: 0.1959 - val_acc: 0.9464\n",
      "Epoch 3/5\n",
      "14/14 [==============================] - 16s 1s/step - loss: 0.4643 - acc: 0.9186 - val_loss: 0.1536 - val_acc: 0.9643\n",
      "Epoch 4/5\n",
      "14/14 [==============================] - 17s 1s/step - loss: 0.1406 - acc: 0.9729 - val_loss: 0.1230 - val_acc: 0.9643\n",
      "Epoch 5/5\n",
      "14/14 [==============================] - 16s 1s/step - loss: 0.1725 - acc: 0.9412 - val_loss: 0.1496 - val_acc: 0.9286\n"
     ]
    }
   ],
   "source": [
    "history = model.fit_generator(train_generator,\n",
    "                    epochs=5,\n",
    "                    validation_data=val_generator)"
   ]
  },
  {
   "cell_type": "code",
   "execution_count": 159,
   "id": "07c65b38",
   "metadata": {},
   "outputs": [
    {
     "name": "stdout",
     "output_type": "stream",
     "text": [
      "Model: \"model_12\"\n",
      "_________________________________________________________________\n",
      " Layer (type)                Output Shape              Param #   \n",
      "=================================================================\n",
      " input_25 (InputLayer)       [(None, 224, 224, 3)]     0         \n",
      "                                                                 \n",
      " resnet50 (Functional)       (None, 7, 7, 2048)        23587712  \n",
      "                                                                 \n",
      " global_average_pooling2d_9   (None, 2048)             0         \n",
      " (GlobalAveragePooling2D)                                        \n",
      "                                                                 \n",
      " dense_13 (Dense)            (None, 64)                131136    \n",
      "                                                                 \n",
      " dropout_12 (Dropout)        (None, 64)                0         \n",
      "                                                                 \n",
      " dense_14 (Dense)            (None, 2)                 130       \n",
      "                                                                 \n",
      "=================================================================\n",
      "Total params: 23,718,978\n",
      "Trainable params: 131,266\n",
      "Non-trainable params: 23,587,712\n",
      "_________________________________________________________________\n"
     ]
    }
   ],
   "source": [
    "model.summary()"
   ]
  },
  {
   "cell_type": "code",
   "execution_count": 241,
   "id": "f77f60da",
   "metadata": {},
   "outputs": [
    {
     "name": "stderr",
     "output_type": "stream",
     "text": [
      "/Users/johngalvin/miniforge3/lib/python3.9/site-packages/keras/engine/functional.py:1410: CustomMaskWarning: Custom mask layers require a config and must override get_config. When loading, the custom mask layer must be passed to the custom_objects argument.\n",
      "  layer_config = serialize_layer_fn(layer)\n"
     ]
    }
   ],
   "source": [
    "model.save(\"model.h5\")"
   ]
  },
  {
   "cell_type": "code",
   "execution_count": 242,
   "id": "e498438c",
   "metadata": {},
   "outputs": [],
   "source": [
    "model = load_model(\"model.h5\")"
   ]
  },
  {
   "cell_type": "code",
   "execution_count": 251,
   "id": "94a11af9",
   "metadata": {},
   "outputs": [],
   "source": [
    "img_path = \"/Users/johngalvin/Desktop/GitHub/Tensorflow/workspace/Lucy-Classification/images/IMG_1819.jpg\""
   ]
  },
  {
   "cell_type": "code",
   "execution_count": 252,
   "id": "5033355c",
   "metadata": {},
   "outputs": [],
   "source": [
    "img = tf.keras.preprocessing.image.load_img(img_path, target_size=(224,224))"
   ]
  },
  {
   "cell_type": "code",
   "execution_count": 253,
   "id": "3e7301b0",
   "metadata": {},
   "outputs": [],
   "source": [
    "img_array = tf.keras.preprocessing.image.img_to_array(img)"
   ]
  },
  {
   "cell_type": "code",
   "execution_count": 254,
   "id": "b007eb55",
   "metadata": {},
   "outputs": [],
   "source": [
    "expanded_img_array = np.expand_dims(img_array, axis=0)"
   ]
  },
  {
   "cell_type": "code",
   "execution_count": 255,
   "id": "e6254bee",
   "metadata": {},
   "outputs": [],
   "source": [
    "preprocessed_img = preprocess_input(expanded_img_array)"
   ]
  },
  {
   "cell_type": "code",
   "execution_count": 256,
   "id": "3929fa35",
   "metadata": {},
   "outputs": [],
   "source": [
    "prediction = model.predict(preprocessed_img)"
   ]
  },
  {
   "cell_type": "code",
   "execution_count": 257,
   "id": "c6cb7678",
   "metadata": {},
   "outputs": [
    {
     "name": "stdout",
     "output_type": "stream",
     "text": [
      "[[1.0000000e+00 1.1442813e-15]]\n"
     ]
    }
   ],
   "source": [
    "print (prediction)"
   ]
  },
  {
   "cell_type": "code",
   "execution_count": 258,
   "id": "7794a5a3",
   "metadata": {},
   "outputs": [
    {
     "name": "stdout",
     "output_type": "stream",
     "text": [
      "{'lucy': 0, 'other': 1}\n"
     ]
    }
   ],
   "source": [
    "print (val_generator.class_indices)"
   ]
  },
  {
   "cell_type": "code",
   "execution_count": null,
   "id": "eecc6e26",
   "metadata": {},
   "outputs": [],
   "source": []
  }
 ],
 "metadata": {
  "kernelspec": {
   "display_name": "Python 3 (ipykernel)",
   "language": "python",
   "name": "python3"
  },
  "language_info": {
   "codemirror_mode": {
    "name": "ipython",
    "version": 3
   },
   "file_extension": ".py",
   "mimetype": "text/x-python",
   "name": "python",
   "nbconvert_exporter": "python",
   "pygments_lexer": "ipython3",
   "version": "3.9.7"
  }
 },
 "nbformat": 4,
 "nbformat_minor": 5
}
